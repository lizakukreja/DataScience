{
 "cells": [
  {
   "cell_type": "code",
   "execution_count": 56,
   "id": "201fd349",
   "metadata": {},
   "outputs": [],
   "source": [
    "#import the required packages\n",
    "import numpy as np\n",
    "import pandas as pd\n",
    "import seaborn as sns\n",
    "import matplotlib.pyplot as plt\n"
   ]
  },
  {
   "cell_type": "code",
   "execution_count": 57,
   "id": "3b7d7c82",
   "metadata": {},
   "outputs": [],
   "source": [
    "#conda install google.colab"
   ]
  },
  {
   "cell_type": "code",
   "execution_count": 58,
   "id": "8ffbfac8",
   "metadata": {},
   "outputs": [],
   "source": [
    "#uploaded = files.upload()\n",
    "data = pd.read_csv('spam.csv',encoding='latin-1')"
   ]
  },
  {
   "cell_type": "code",
   "execution_count": 59,
   "id": "5a164edc",
   "metadata": {},
   "outputs": [
    {
     "name": "stdout",
     "output_type": "stream",
     "text": [
      "(5572, 5)\n"
     ]
    }
   ],
   "source": [
    "print(data.shape)\n"
   ]
  },
  {
   "cell_type": "code",
   "execution_count": 60,
   "id": "b30c60ef",
   "metadata": {},
   "outputs": [
    {
     "data": {
      "text/html": [
       "<div>\n",
       "<style scoped>\n",
       "    .dataframe tbody tr th:only-of-type {\n",
       "        vertical-align: middle;\n",
       "    }\n",
       "\n",
       "    .dataframe tbody tr th {\n",
       "        vertical-align: top;\n",
       "    }\n",
       "\n",
       "    .dataframe thead th {\n",
       "        text-align: right;\n",
       "    }\n",
       "</style>\n",
       "<table border=\"1\" class=\"dataframe\">\n",
       "  <thead>\n",
       "    <tr style=\"text-align: right;\">\n",
       "      <th></th>\n",
       "      <th>v1</th>\n",
       "      <th>v2</th>\n",
       "      <th>Unnamed: 2</th>\n",
       "      <th>Unnamed: 3</th>\n",
       "      <th>Unnamed: 4</th>\n",
       "    </tr>\n",
       "  </thead>\n",
       "  <tbody>\n",
       "    <tr>\n",
       "      <th>0</th>\n",
       "      <td>ham</td>\n",
       "      <td>Go until jurong point, crazy.. Available only ...</td>\n",
       "      <td>NaN</td>\n",
       "      <td>NaN</td>\n",
       "      <td>NaN</td>\n",
       "    </tr>\n",
       "    <tr>\n",
       "      <th>1</th>\n",
       "      <td>ham</td>\n",
       "      <td>Ok lar... Joking wif u oni...</td>\n",
       "      <td>NaN</td>\n",
       "      <td>NaN</td>\n",
       "      <td>NaN</td>\n",
       "    </tr>\n",
       "    <tr>\n",
       "      <th>2</th>\n",
       "      <td>spam</td>\n",
       "      <td>Free entry in 2 a wkly comp to win FA Cup fina...</td>\n",
       "      <td>NaN</td>\n",
       "      <td>NaN</td>\n",
       "      <td>NaN</td>\n",
       "    </tr>\n",
       "    <tr>\n",
       "      <th>3</th>\n",
       "      <td>ham</td>\n",
       "      <td>U dun say so early hor... U c already then say...</td>\n",
       "      <td>NaN</td>\n",
       "      <td>NaN</td>\n",
       "      <td>NaN</td>\n",
       "    </tr>\n",
       "    <tr>\n",
       "      <th>4</th>\n",
       "      <td>ham</td>\n",
       "      <td>Nah I don't think he goes to usf, he lives aro...</td>\n",
       "      <td>NaN</td>\n",
       "      <td>NaN</td>\n",
       "      <td>NaN</td>\n",
       "    </tr>\n",
       "  </tbody>\n",
       "</table>\n",
       "</div>"
      ],
      "text/plain": [
       "     v1                                                 v2 Unnamed: 2  \\\n",
       "0   ham  Go until jurong point, crazy.. Available only ...        NaN   \n",
       "1   ham                      Ok lar... Joking wif u oni...        NaN   \n",
       "2  spam  Free entry in 2 a wkly comp to win FA Cup fina...        NaN   \n",
       "3   ham  U dun say so early hor... U c already then say...        NaN   \n",
       "4   ham  Nah I don't think he goes to usf, he lives aro...        NaN   \n",
       "\n",
       "  Unnamed: 3 Unnamed: 4  \n",
       "0        NaN        NaN  \n",
       "1        NaN        NaN  \n",
       "2        NaN        NaN  \n",
       "3        NaN        NaN  \n",
       "4        NaN        NaN  "
      ]
     },
     "execution_count": 60,
     "metadata": {},
     "output_type": "execute_result"
    }
   ],
   "source": [
    "data.head()"
   ]
  },
  {
   "cell_type": "code",
   "execution_count": 61,
   "id": "6c3702a9",
   "metadata": {},
   "outputs": [],
   "source": [
    "#removing unnamed columns i.e data cleansing\n",
    "data = data.drop(columns='Unnamed: 2')\n",
    "data = data.drop(columns='Unnamed: 3')\n",
    "data = data.drop(columns='Unnamed: 4')"
   ]
  },
  {
   "cell_type": "code",
   "execution_count": 62,
   "id": "911a72c0",
   "metadata": {},
   "outputs": [
    {
     "name": "stdout",
     "output_type": "stream",
     "text": [
      "(5572, 2)\n"
     ]
    }
   ],
   "source": [
    "print(data.shape)"
   ]
  },
  {
   "cell_type": "code",
   "execution_count": 63,
   "id": "b7afd256",
   "metadata": {},
   "outputs": [],
   "source": [
    "#renaming the columns accordingly\n",
    "data = data.rename(columns = {'v1':'label','v2':'message'})"
   ]
  },
  {
   "cell_type": "code",
   "execution_count": 64,
   "id": "6bd1b094",
   "metadata": {},
   "outputs": [],
   "source": [
    "#CountVectorizer is used to transform a given text into a vector on the basis of the frequency (count) of each word that occurs in the entire text\n",
    "from sklearn import feature_extraction\n",
    "f = feature_extraction.text.CountVectorizer(stop_words = 'english')\n",
    "X = f.fit_transform(data[\"message\"])"
   ]
  },
  {
   "cell_type": "code",
   "execution_count": 65,
   "id": "3c61320f",
   "metadata": {},
   "outputs": [],
   "source": [
    "#Setting spam as 1 and ham as 0\n",
    "data[\"label\"]=data[\"label\"].map({'spam':1,'ham':0})\n",
    "y = data['label']"
   ]
  },
  {
   "cell_type": "code",
   "execution_count": 66,
   "id": "0510d195",
   "metadata": {},
   "outputs": [],
   "source": [
    "#Splitting the dataset into testing and training samples\n",
    "from sklearn.model_selection import train_test_split\n",
    "X_train, X_test, y_train, y_test = train_test_split(X, y, test_size=0.30)"
   ]
  },
  {
   "cell_type": "markdown",
   "id": "f0ab00c0",
   "metadata": {},
   "source": [
    "# Naive Bayes Classifier"
   ]
  },
  {
   "cell_type": "code",
   "execution_count": 67,
   "id": "17cf4a22",
   "metadata": {},
   "outputs": [
    {
     "data": {
      "text/plain": [
       "MultinomialNB()"
      ]
     },
     "execution_count": 67,
     "metadata": {},
     "output_type": "execute_result"
    }
   ],
   "source": [
    "#Creating a Naive Bayes Classifier model\n",
    "from sklearn import naive_bayes\n",
    "model = naive_bayes.MultinomialNB()\n",
    "model.fit(X_train, y_train)"
   ]
  },
  {
   "cell_type": "code",
   "execution_count": 68,
   "id": "6075c151",
   "metadata": {},
   "outputs": [
    {
     "name": "stdout",
     "output_type": "stream",
     "text": [
      "[0 0 0 ... 0 0 0]\n"
     ]
    }
   ],
   "source": [
    "#Testing the model\n",
    "y_pred=model.predict(X_test)\n",
    "print(y_pred)"
   ]
  },
  {
   "cell_type": "code",
   "execution_count": 69,
   "id": "02351962",
   "metadata": {},
   "outputs": [
    {
     "name": "stdout",
     "output_type": "stream",
     "text": [
      "Confusion Matrix obtained: \n",
      "[[1426   29]\n",
      " [   9  208]]\n"
     ]
    }
   ],
   "source": [
    "#Confusion Matrix for Naive Bayes Classifier\n",
    "from sklearn import metrics\n",
    "from sklearn.metrics import confusion_matrix\n",
    "cm= confusion_matrix(y_test,y_pred)\n",
    "print(\"Confusion Matrix obtained: \")\n",
    "print(cm)"
   ]
  },
  {
   "cell_type": "code",
   "execution_count": 70,
   "id": "552bd5b8",
   "metadata": {},
   "outputs": [
    {
     "data": {
      "image/png": "[encoded data removed]",
      "text/plain": [
       "<Figure size 432x288 with 2 Axes>"
      ]
     },
     "metadata": {
      "needs_background": "light"
     },
     "output_type": "display_data"
    }
   ],
   "source": [
    "#Displaying the confusion matrix\n",
    "cm_display = metrics.ConfusionMatrixDisplay(confusion_matrix = cm, display_labels =[False,True])\n",
    "cm_display.plot()\n",
    "plt.show()"
   ]
  },
  {
   "cell_type": "code",
   "execution_count": 71,
   "id": "c2a5bfe7",
   "metadata": {},
   "outputs": [
    {
     "name": "stdout",
     "output_type": "stream",
     "text": [
      "Accuracy of Naive Bayes classifier: 0.9772727272727273\n"
     ]
    }
   ],
   "source": [
    "#Accuracy of Naive Bayes Classifier model\n",
    "print(\"Accuracy of Naive Bayes classifier:\",metrics.accuracy_score(y_test, y_pred))"
   ]
  },
  {
   "cell_type": "code",
   "execution_count": 72,
   "id": "f3deed4e",
   "metadata": {},
   "outputs": [
    {
     "name": "stdout",
     "output_type": "stream",
     "text": [
      "Area under the curve: 0.9692970370722283\n"
     ]
    }
   ],
   "source": [
    "#ROC curve for Naive Bayes Classifier\n",
    "from sklearn.metrics import roc_curve, auc\n",
    "false_positive_rate, true_positive_rate, thresholds = roc_curve(y_test, y_pred)\n",
    "roc_auc = auc(false_positive_rate, true_positive_rate)\n",
    "print(\"Area under the curve:\",roc_auc)"
   ]
  },
  {
   "cell_type": "code",
   "execution_count": 73,
   "id": "09a5124b",
   "metadata": {},
   "outputs": [
    {
     "data": {
      "text/plain": [
       "[<matplotlib.lines.Line2D at 0x7fc7d8fb6160>]"
      ]
     },
     "execution_count": 73,
     "metadata": {},
     "output_type": "execute_result"
    },
    {
     "data": {
      "image/png": "[encoded data removed]",
      "text/plain": [
       "<Figure size 432x288 with 1 Axes>"
      ]
     },
     "metadata": {
      "needs_background": "light"
     },
     "output_type": "display_data"
    }
   ],
   "source": [
    "#Displaying the ROC curve \n",
    "plt.plot(false_positive_rate,true_positive_rate)"
   ]
  },
  {
   "cell_type": "code",
   "execution_count": 74,
   "id": "0fd9b1b0",
   "metadata": {},
   "outputs": [
    {
     "name": "stdout",
     "output_type": "stream",
     "text": [
      "              precision    recall  f1-score   support\n",
      "\n",
      "           0       0.99      0.98      0.99      1455\n",
      "           1       0.88      0.96      0.92       217\n",
      "\n",
      "    accuracy                           0.98      1672\n",
      "   macro avg       0.94      0.97      0.95      1672\n",
      "weighted avg       0.98      0.98      0.98      1672\n",
      "\n"
     ]
    }
   ],
   "source": [
    "#Printing the classification report of Naive Bayes classifier model\n",
    "from sklearn.metrics import classification_report\n",
    "print(classification_report(y_test,y_pred))"
   ]
  },
  {
   "cell_type": "markdown",
   "id": "0a8eec5a",
   "metadata": {},
   "source": [
    "# Support Vector Machine Classifier"
   ]
  },
  {
   "cell_type": "code",
   "execution_count": 75,
   "id": "d0738134",
   "metadata": {},
   "outputs": [
    {
     "data": {
      "text/plain": [
       "SVC()"
      ]
     },
     "execution_count": 75,
     "metadata": {},
     "output_type": "execute_result"
    }
   ],
   "source": [
    "#Creating a SVC model\n",
    "from sklearn.svm import SVC\n",
    "svc_model = SVC() #initialize the code module\n",
    "svc_model.fit(X_train,y_train)"
   ]
  },
  {
   "cell_type": "code",
   "execution_count": 76,
   "id": "e6b1c6a7",
   "metadata": {},
   "outputs": [
    {
     "name": "stdout",
     "output_type": "stream",
     "text": [
      "[0 0 0 ... 0 0 0]\n"
     ]
    }
   ],
   "source": [
    "#Testing the model\n",
    "y_pred1 = svc_model.predict(X_test)\n",
    "print(y_pred1)"
   ]
  },
  {
   "cell_type": "code",
   "execution_count": 77,
   "id": "020a3912",
   "metadata": {},
   "outputs": [
    {
     "name": "stdout",
     "output_type": "stream",
     "text": [
      "Confusion Matrix obtained: \n",
      "[[1454    1]\n",
      " [  35  182]]\n"
     ]
    }
   ],
   "source": [
    "#Confusion Matrix for Support Vector Machine classifier\n",
    "cm1= confusion_matrix(y_test,y_pred1)\n",
    "print(\"Confusion Matrix obtained: \")\n",
    "print(cm1)"
   ]
  },
  {
   "cell_type": "code",
   "execution_count": 78,
   "id": "176d1a30",
   "metadata": {},
   "outputs": [
    {
     "data": {
      "image/png": "[encoded data removed]",
      "text/plain": [
       "<Figure size 432x288 with 2 Axes>"
      ]
     },
     "metadata": {
      "needs_background": "light"
     },
     "output_type": "display_data"
    }
   ],
   "source": [
    "#Displaying the Confusion matrix\n",
    "cm_display = metrics.ConfusionMatrixDisplay(confusion_matrix = cm1, display_labels =[False,True])\n",
    "cm_display.plot()\n",
    "plt.show()"
   ]
  },
  {
   "cell_type": "code",
   "execution_count": 79,
   "id": "0d3ad067",
   "metadata": {},
   "outputs": [
    {
     "name": "stdout",
     "output_type": "stream",
     "text": [
      "Accuracy of SVM model: 0.9784688995215312\n"
     ]
    }
   ],
   "source": [
    "#Accuracy of SVC\n",
    "print(\"Accuracy of SVM model:\",metrics.accuracy_score(y_test, y_pred1))"
   ]
  },
  {
   "cell_type": "code",
   "execution_count": 80,
   "id": "857e61db",
   "metadata": {},
   "outputs": [
    {
     "name": "stdout",
     "output_type": "stream",
     "text": [
      "Area under the curve: 0.9190111960979936\n"
     ]
    }
   ],
   "source": [
    "#ROC curve for SVC\n",
    "false_positive_rate, true_positive_rate, thresholds = roc_curve(y_test, y_pred1)\n",
    "roc_auc = auc(false_positive_rate, true_positive_rate)\n",
    "print(\"Area under the curve:\",roc_auc)"
   ]
  },
  {
   "cell_type": "code",
   "execution_count": 81,
   "id": "ab0628ed",
   "metadata": {},
   "outputs": [
    {
     "data": {
      "text/plain": [
       "[<matplotlib.lines.Line2D at 0x7fc7d8f4e760>]"
      ]
     },
     "execution_count": 81,
     "metadata": {},
     "output_type": "execute_result"
    },
    {
     "data": {
      "image/png": "[encoded data removed]",
      "text/plain": [
       "<Figure size 432x288 with 1 Axes>"
      ]
     },
     "metadata": {
      "needs_background": "light"
     },
     "output_type": "display_data"
    }
   ],
   "source": [
    "plt.plot(false_positive_rate,true_positive_rate)"
   ]
  },
  {
   "cell_type": "code",
   "execution_count": 82,
   "id": "b2745c0d",
   "metadata": {},
   "outputs": [
    {
     "name": "stdout",
     "output_type": "stream",
     "text": [
      "              precision    recall  f1-score   support\n",
      "\n",
      "           0       0.98      1.00      0.99      1455\n",
      "           1       0.99      0.84      0.91       217\n",
      "\n",
      "    accuracy                           0.98      1672\n",
      "   macro avg       0.99      0.92      0.95      1672\n",
      "weighted avg       0.98      0.98      0.98      1672\n",
      "\n"
     ]
    }
   ],
   "source": [
    "#Printing the classification report of SVM classifier model\n",
    "print(classification_report(y_test,y_pred1))"
   ]
  }
 ],
 "metadata": {
  "kernelspec": {
   "display_name": "Python 3 (ipykernel)",
   "language": "python",
   "name": "python3"
  },
  "language_info": {
   "codemirror_mode": {
    "name": "ipython",
    "version": 3
   },
   "file_extension": ".py",
   "mimetype": "text/x-python",
   "name": "python",
   "nbconvert_exporter": "python",
   "pygments_lexer": "ipython3",
   "version": "3.9.12"
  }
 },
 "nbformat": 4,
 "nbformat_minor": 5
}
